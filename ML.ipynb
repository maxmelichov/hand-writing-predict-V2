{
 "cells": [
  {
   "cell_type": "code",
   "execution_count": null,
   "metadata": {},
   "outputs": [],
   "source": [
    "import tensorflow as tf\n",
    "from sklearn.model_selection import train_test_split\n",
    "mnist = tf.keras.datasets.mnist\n",
    "(x_train,y_train),(x_test,y_test) =mnist.load_data()"
   ]
  },
  {
   "cell_type": "code",
   "execution_count": null,
   "metadata": {},
   "outputs": [],
   "source": [
    "x_train=tf.keras.utils.normalize(x_train,axis=1)\n",
    "x_test=tf.keras.utils.normalize(x_test,axis=1)\n"
   ]
  },
  {
   "cell_type": "code",
   "execution_count": null,
   "metadata": {},
   "outputs": [],
   "source": [
    "x_train,x_eval,y_train,y_eval= train_test_split(x_train,y_train,test_size=0.2)"
   ]
  },
  {
   "cell_type": "code",
   "execution_count": null,
   "metadata": {},
   "outputs": [],
   "source": [
    "from pickletools import optimize\n",
    "import numpy as np\n",
    "import pandas as pd\n",
    "from sklearn import metrics\n",
    "\n",
    "def cmodel():\n",
    "    model = tf.keras.models.Sequential([\n",
    "    tf.keras.layers.Flatten(input_shape=[28, 28]),\n",
    "    tf.keras.layers.BatchNormalization(),\n",
    "    tf.keras.layers.Dense(512, activation=\"elu\", kernel_initializer=\"he_normal\"),\n",
    "    tf.keras.layers.BatchNormalization(),\n",
    "    tf.keras.layers.Dense(256, activation=\"elu\", kernel_initializer=\"he_normal\"),\n",
    "    tf.keras.layers.BatchNormalization(),\n",
    "    tf.keras.layers.Dense(10, activation=\"softmax\")\n",
    "    ])\n",
    "    model.compile(optimizer= \"Nadam\",loss=\"sparse_categorical_crossentropy\",metrics=[\"accuracy\"])\n",
    "    return model"
   ]
  },
  {
   "cell_type": "code",
   "execution_count": null,
   "metadata": {},
   "outputs": [],
   "source": [
    "nums= range(128,480,64)\n",
    "val_loss= np.inf\n",
    "val_acc=0\n",
    "num = 0\n",
    "for i in range(3,6,2):\n",
    "    # for val in nums:\n",
    "        model = cmodel()\n",
    "        model.fit(x_train,y_train,epochs=i)\n",
    "        loss,acc = model.evaluate(x_eval,y_eval)\n",
    "        if loss <val_loss and acc >val_acc:\n",
    "            model.save(\"best_model1.model\")\n"
   ]
  },
  {
   "cell_type": "code",
   "execution_count": null,
   "metadata": {},
   "outputs": [],
   "source": [
    "new_model = tf.keras.models.load_model('best_model1.model')\n",
    "new_loss,new_acc = new_model.evaluate(x_test,y_test)\n",
    "print(f\"Best lost: {new_loss}, Best acc: {new_acc}, Best Number neurons: {512}\")"
   ]
  },
  {
   "cell_type": "code",
   "execution_count": null,
   "metadata": {},
   "outputs": [],
   "source": [
    "from tensorflow.keras.layers import Dense,Dropout,Activation,Flatten,Conv2D,MaxPooling2D\n",
    "\n",
    "def CNNmodel():\n",
    "   model =  tf.keras.models.Sequential()\n",
    "   model.add(Conv2D(32, kernel_size=(3, 3),activation='relu',input_shape=(28, 28, 1)))\n",
    "   model.add(MaxPooling2D(pool_size=(2, 2)))\n",
    "   model.add(Conv2D(224, (3, 3), activation='relu'))\n",
    "   model.add(Conv2D(32,(3, 3), activation='relu'))\n",
    "   model.add(MaxPooling2D(pool_size=(2, 2)))\n",
    "   tf.keras.layers.BatchNormalization()\n",
    "   model.add(Flatten())\n",
    "   model.add(Dense(64, activation='relu'))\n",
    "   tf.keras.layers.BatchNormalization()\n",
    "\n",
    "   model.add(Dense(10, activation='softmax'))\n",
    "   model.compile(loss='sparse_categorical_crossentropy',optimizer='Nadam',metrics=['accuracy'])\n",
    "   return model"
   ]
  },
  {
   "cell_type": "code",
   "execution_count": null,
   "metadata": {},
   "outputs": [],
   "source": [
    "val_loss= np.inf\n",
    "val_acc=0\n",
    "num = 0\n",
    "for i in range(3,12,2):\n",
    "   # for val in nums:\n",
    "   modelCNN = CNNmodel()\n",
    "   x_train = x_train.reshape(x_train.shape[0], 28, 28, 1)\n",
    "   x_test = x_test.reshape(x_test.shape[0], 28, 28, 1)\n",
    "   modelCNN.fit(x_train,y_train,epochs=i,batch_size=32)\n",
    "   loss,acc = modelCNN.evaluate(x_eval,y_eval)\n",
    "   if loss <val_loss and acc >val_acc:\n",
    "       modelCNN.save(\"best_CNNmodel1.model\")"
   ]
  }
 ],
 "metadata": {
  "kernelspec": {
   "display_name": "Python 3.10.5 64-bit",
   "language": "python",
   "name": "python3"
  },
  "language_info": {
   "codemirror_mode": {
    "name": "ipython",
    "version": 3
   },
   "file_extension": ".py",
   "mimetype": "text/x-python",
   "name": "python",
   "nbconvert_exporter": "python",
   "pygments_lexer": "ipython3",
   "version": "3.10.5"
  },
  "orig_nbformat": 4,
  "vscode": {
   "interpreter": {
    "hash": "633bf2759fc0a7f4cda3481845fe7ea6530e49a0cd0358cdd14e096add1492c4"
   }
  }
 },
 "nbformat": 4,
 "nbformat_minor": 2
}
